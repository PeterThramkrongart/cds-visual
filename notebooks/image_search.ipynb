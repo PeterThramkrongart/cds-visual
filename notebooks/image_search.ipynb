{
 "cells": [
  {
   "cell_type": "markdown",
   "metadata": {},
   "source": [
    "## Assignment 2 - Simple image search\n",
    "\n",
    "### By Jakub Raszka and Peter Thramkrongart\n",
    "\n",
    "#### Description\n",
    "\n",
    "Creating a simple image search script\n",
    "\n",
    "Download the Oxford-17 flowers image data set, available at this link:\n",
    "\n",
    "\n",
    "https://www.robots.ox.ac.uk/~vgg/data/flowers/17/\n",
    "\n",
    "\n",
    "Choose one image in your data that you want to be the 'target image'. Write a Python script or Notebook which does the following:\n",
    "\n",
    "    Use the cv2.compareHist() function to compare the 3D color histogram for your target image to each of the other images in the corpus one-by-one.\n",
    "    In particular, use chi-square distance method, like we used in class. Round this number to 2 decimal places.\n",
    "    Save the results from this comparison as a single .csv file, showing the distance between your target image and each of the other images. The .csv file should show the filename for every image in your data except the target and the distance metric between that image and your target. Call your columns: filename, distance.\n",
    "\n",
    "\n",
    "#### General instructions\n",
    "\n",
    "    For this exercise, you can upload either a standalone script OR a Jupyter Notebook\n",
    "    Save your script as image_search.py OR image_search.ipynb\n",
    "    If you have external dependencies, you must include a requirements.txt\n",
    "    You can either upload the script here or push to GitHub and include a link - or both!\n",
    "    Your code should be clearly documented in a way that allows others to easily follow along\n",
    "    Similarly, remember to use descriptive variable names! A name like hist is more readable than h.\n",
    "    The filenames of the saved images should clearly relate to the original image\n",
    "\n",
    "\n",
    "#### Purpose\n",
    "\n",
    "This assignment is designed to test that you have a understanding of:\n",
    "\n",
    "    how to make extract features from images based on colour space;\n",
    "    how to compare images for similarity based on their colour histogram;\n",
    "    how to combine these skills to create an image 'search engine'"
   ]
  },
  {
   "cell_type": "code",
   "execution_count": 3,
   "metadata": {},
   "outputs": [],
   "source": [
    "import cv2 #For image processing\n",
    "import numpy as np #For arrasys and csv exporting\n",
    "from pathlib import Path #for accessing all files in the directory"
   ]
  },
  {
   "cell_type": "code",
   "execution_count": 25,
   "metadata": {},
   "outputs": [],
   "source": [
    "\"\"\"\n",
    "This function compares the similarity of a key image to all other images in the file directory.\n",
    "It outputs a csv-file of of the filenames and the distance in color distributions measured with the chi-square method.\n",
    "\n",
    "Inputs:\n",
    "path =  the directory path of all images\n",
    "\n",
    "key_image_name = the filename of the key image. It should located in the same directory as the other images.\n",
    "\"\"\"\n",
    "\n",
    "def compare_colors(path,key_image_name):\n",
    "    filename = [] #The list of image file names\n",
    "    distance = [] #The list of chi-squared distances to the key image\n",
    "    image1 = cv2.imread(f\"{path}{key_image_name}\")  #read keay image\n",
    "    hist1 = cv2.calcHist([image1], [0,1,2],None,[8,8,8],[0,256,0,256,0,256]) #calculate color distributions of key image\n",
    "    hist1 = cv2.normalize(hist1,hist1,0,255,cv2.NORM_MINMAX) #normalize values for optimal comparison\n",
    "    \n",
    "    for file in sorted(Path(path).glob(\"*.jpg\")): #for each image in the sorted directory:\n",
    "        file = str(file)  #convert the filename to string\n",
    "        filename.append(file.split(sep = \"/\")[3]) #append the filename without the path\n",
    "        image2 = cv2.imread(file) #read the file\n",
    "        hist2 = cv2.calcHist([image2], [0,1,2],None,[8,8,8],[0,256,0,256,0,256]) #calculate color distribution\n",
    "        hist2 = cv2.normalize(hist2,hist2,0,255,cv2.NORM_MINMAX) #Normalize\n",
    "        calculated_distance = cv2.compareHist(hist1,hist2,cv2.HISTCMP_CHISQR)  #Calculate distance\n",
    "        calculated_distance = round(calculated_distanc,2)  #Round to two decimals\n",
    "        distance.append(calculated_distance)  #append distance to list\n",
    "        \n",
    "        \n",
    "    metadata = np.array((filename,distance)) #create array\n",
    "    metadata = np.column_stack(metadata) #flip array to long format\n",
    "    metadata=metadata[np.all(metadata != key_image_name, axis=1)] #remove the entry of the key image\n",
    "    \n",
    "    split_key_name = key_image_name.split(\".\")[0] #Get the image name without the file format\n",
    "\n",
    "    np.savetxt(#save csv\n",
    "        f\"{path}{split_key_name}_distance_data.csv\",#filename\n",
    "        metadata, #array\n",
    "        delimiter=',',#comma separeted\n",
    "        header=\"filename,distance\", #column names\n",
    "        fmt='%s', #We not sure about this... We get an error without. It is something with the encoding of the numbers or something...\n",
    "        comments = \"\")#this is to remove the hashtag from the header\n",
    "    \n"
   ]
  },
  {
   "cell_type": "code",
   "execution_count": 26,
   "metadata": {},
   "outputs": [
    {
     "ename": "NameError",
     "evalue": "name 'calculated_distanc' is not defined",
     "output_type": "error",
     "traceback": [
      "\u001b[0;31m---------------------------------------------------------------------------\u001b[0m",
      "\u001b[0;31mNameError\u001b[0m                                 Traceback (most recent call last)",
      "\u001b[0;32m<ipython-input-26-9cb96ba073fd>\u001b[0m in \u001b[0;36m<module>\u001b[0;34m\u001b[0m\n\u001b[0;32m----> 1\u001b[0;31m \u001b[0mcompare_colors\u001b[0m\u001b[0;34m(\u001b[0m\u001b[0;34m\"../data/jpg/\"\u001b[0m\u001b[0;34m,\u001b[0m\u001b[0;34m\"image_0001.jpg\"\u001b[0m\u001b[0;34m)\u001b[0m \u001b[0;31m#Test with the first image in the directory\u001b[0m\u001b[0;34m\u001b[0m\u001b[0;34m\u001b[0m\u001b[0m\n\u001b[0m",
      "\u001b[0;32m<ipython-input-25-ddf03676d2db>\u001b[0m in \u001b[0;36mcompare_colors\u001b[0;34m(path, key_image_name)\u001b[0m\n\u001b[1;32m     23\u001b[0m         \u001b[0mhist2\u001b[0m \u001b[0;34m=\u001b[0m \u001b[0mcv2\u001b[0m\u001b[0;34m.\u001b[0m\u001b[0mnormalize\u001b[0m\u001b[0;34m(\u001b[0m\u001b[0mhist2\u001b[0m\u001b[0;34m,\u001b[0m\u001b[0mhist2\u001b[0m\u001b[0;34m,\u001b[0m\u001b[0;36m0\u001b[0m\u001b[0;34m,\u001b[0m\u001b[0;36m255\u001b[0m\u001b[0;34m,\u001b[0m\u001b[0mcv2\u001b[0m\u001b[0;34m.\u001b[0m\u001b[0mNORM_MINMAX\u001b[0m\u001b[0;34m)\u001b[0m \u001b[0;31m#Normalize\u001b[0m\u001b[0;34m\u001b[0m\u001b[0;34m\u001b[0m\u001b[0m\n\u001b[1;32m     24\u001b[0m         \u001b[0mcalculated_distance\u001b[0m \u001b[0;34m=\u001b[0m \u001b[0mcv2\u001b[0m\u001b[0;34m.\u001b[0m\u001b[0mcompareHist\u001b[0m\u001b[0;34m(\u001b[0m\u001b[0mhist1\u001b[0m\u001b[0;34m,\u001b[0m\u001b[0mhist2\u001b[0m\u001b[0;34m,\u001b[0m\u001b[0mcv2\u001b[0m\u001b[0;34m.\u001b[0m\u001b[0mHISTCMP_CHISQR\u001b[0m\u001b[0;34m)\u001b[0m  \u001b[0;31m#Calculate distance\u001b[0m\u001b[0;34m\u001b[0m\u001b[0;34m\u001b[0m\u001b[0m\n\u001b[0;32m---> 25\u001b[0;31m         \u001b[0mcalculated_distance\u001b[0m \u001b[0;34m=\u001b[0m \u001b[0mround\u001b[0m\u001b[0;34m(\u001b[0m\u001b[0mcalculated_distanc\u001b[0m\u001b[0;34m,\u001b[0m\u001b[0;36m2\u001b[0m\u001b[0;34m)\u001b[0m  \u001b[0;31m#Round to two decimals\u001b[0m\u001b[0;34m\u001b[0m\u001b[0;34m\u001b[0m\u001b[0m\n\u001b[0m\u001b[1;32m     26\u001b[0m         \u001b[0mdistance\u001b[0m\u001b[0;34m.\u001b[0m\u001b[0mappend\u001b[0m\u001b[0;34m(\u001b[0m\u001b[0mcalculated_distance\u001b[0m\u001b[0;34m)\u001b[0m  \u001b[0;31m#append distance to list\u001b[0m\u001b[0;34m\u001b[0m\u001b[0;34m\u001b[0m\u001b[0m\n\u001b[1;32m     27\u001b[0m \u001b[0;34m\u001b[0m\u001b[0m\n",
      "\u001b[0;31mNameError\u001b[0m: name 'calculated_distanc' is not defined"
     ]
    }
   ],
   "source": [
    "compare_colors(\"../data/jpg/\",\"image_0001.jpg\") #Test with the first image in the directory"
   ]
  },
  {
   "cell_type": "code",
   "execution_count": null,
   "metadata": {},
   "outputs": [],
   "source": []
  }
 ],
 "metadata": {
  "kernelspec": {
   "display_name": "cv101",
   "language": "python",
   "name": "cv101"
  },
  "language_info": {
   "codemirror_mode": {
    "name": "ipython",
    "version": 3
   },
   "file_extension": ".py",
   "mimetype": "text/x-python",
   "name": "python",
   "nbconvert_exporter": "python",
   "pygments_lexer": "ipython3",
   "version": "3.6.9"
  }
 },
 "nbformat": 4,
 "nbformat_minor": 4
}
